{
    "nbformat": 4,
    "nbformat_minor": 0,
    "metadata": {
     "colab": {
      "provenance": [],
      "authorship_tag": "generated",
      "include_colab_link": true
     },
     "kernelspec": {
      "name": "python3",
      "display_name": "Python 3"
     },
     "language_info": {
      "name": "python"
     }
    },
    "cells": [
     {
      "cell_type": "markdown",
      "source": [
       "# ScopeGreen API Interactive Tutorial\n",
       "\n",
       "Welcome! This Google Colab notebook provides an interactive way to learn about and test the ScopeGreen API from Scope4.\n",
       "\n",
       "**What you can do here:**\n",
       "* Learn how to make API calls to search for Life Cycle Assessment (LCA) metrics.\n",
       "* Experiment with different search parameters.\n",
       "* See live results directly from the API.\n",
       "\n",
       "**Prerequisites:**\n",
       "* You need a ScopeGreen API Key. If you don't have one, please request access via the [Builder Form](https://scope4.dev/request-form-builder) or [Enterprise Form](https://scope4.dev/request-form-enterprise).\n",
       "* Basic understanding of Python and REST APIs is helpful but not strictly required."
      ],
      "metadata": {
       "id": "intro_markdown"
      }
     },
     {
      "cell_type": "markdown",
      "source": [
       "## 1. Setup\n",
       "\n",
       "First, we need to install the `requests` library (if it's not already available in the Colab environment) and set up your API key securely."
      ],
      "metadata": {
       "id": "setup_markdown"
      }
     },
     {
      "cell_type": "code",
      "execution_count": null,
      "metadata": {
       "id": "install_requests"
      },
      "outputs": [],
      "source": [
       "# Install the requests library, used for making HTTP requests\n",
       "!pip install requests -q"
      ]
     },
     {
      "cell_type": "code",
      "source": [
       "# Import necessary libraries\n",
       "import requests\n",
       "import json\n",
       "from getpass import getpass # To securely input your API key\n",
       "\n",
       "# --- Configuration ---\n",
       "API_BASE_URL = \"https://lcabench-v1-main-3f150df.d2.zuplo.dev\"\n",
       "\n",
       "# Securely get the API key from the user\n",
       "api_key = getpass('Enter your ScopeGreen API Key: ')\n",
       "\n",
       "# Set up the authorization header\n",
       "headers = {\n",
       "    \"Authorization\": f\"Bearer {api_key}\"\n",
       "}\n",
       "\n",
       "print(\"API Key set successfully (hidden for security).\")"
      ],
      "metadata": {
       "id": "import_and_config"
      },
      "execution_count": null,
      "outputs": []
     },
     {
      "cell_type": "markdown",
      "source": [
       "## 2. Check API Health\n",
       "\n",
       "Let's start with a simple check to ensure the API is running."
      ],
      "metadata": {
       "id": "health_check_markdown"
      }
     },
     {
      "cell_type": "code",
      "source": [
       "# Define the health check endpoint URL\n",
       "health_url = f\"{API_BASE_URL}/health\"\n",
       "\n",
       "try:\n",
       "    # Make the GET request (no auth needed for this specific endpoint as per OAS, but sending anyway)\n",
       "    response = requests.get(health_url, headers=headers)\n",
       "\n",
       "    # Check if the request was successful (status code 200)\n",
       "    if response.status_code == 200:\n",
       "        print(\"API Health Check Successful!\")\n",
       "        print(\"Response:\", response.json()) # Print the response body\n",
       "    else:\n",
       "        print(f\"API Health Check Failed. Status Code: {response.status_code}\")\n",
       "        print(\"Response:\", response.text) # Print raw text on failure\n",
       "\n",
       "except requests.exceptions.RequestException as e:\n",
       "    print(f\"An error occurred during the request: {e}\")"
      ],
      "metadata": {
       "colab": {
        "base_uri": "https://localhost:8080/"
       },
       "id": "health_check_code",
       "outputId": "e0a9f1c1-2f5b-45c3-d4e1-16107479210f"
      },
      "execution_count": null,
      "outputs": [
       {
        "output_type": "stream",
        "name": "stdout",
        "text": [
         "API Health Check Successful!\n",
         "Response: {'status': 'healthy'}\n"
        ]
       }
      ]
     },
     {
      "cell_type": "markdown",
      "source": [
       "## 3. Get Available Metrics\n",
       "\n",
       "Find out which metrics are supported by the API."
      ],
      "metadata": {
       "id": "available_metrics_markdown"
      }
     },
     {
      "cell_type": "code",
      "source": [
       "# Define the available metrics endpoint URL\n",
       "available_metrics_url = f\"{API_BASE_URL}/api/metrics/available\"\n",
       "\n",
       "try:\n",
       "    # Make the GET request (requires auth)\n",
       "    response = requests.get(available_metrics_url, headers=headers)\n",
       "\n",
       "    # Check the status code and print results\n",
       "    print(f\"Request URL: {response.url}\")\n",
       "    print(f\"Status Code: {response.status_code}\")\n",
       "\n",
       "    if response.status_code == 200:\n",
       "        print(\"\\nAvailable Metrics:\")\n",
       "        # Pretty print the JSON response\n",
       "        print(json.dumps(response.json(), indent=2))\n",
       "    else:\n",
       "        print(\"\\nError fetching available metrics:\")\n",
       "        try:\n",
       "            # Try to parse error JSON\n",
       "            print(json.dumps(response.json(), indent=2))\n",
       "        except json.JSONDecodeError:\n",
       "            # Print raw text if not JSON\n",
       "            print(response.text)\n",
       "\n",
       "except requests.exceptions.RequestException as e:\n",
       "    print(f\"An error occurred during the request: {e}\")"
      ],
      "metadata": {
       "colab": {
        "base_uri": "https://localhost:8080/"
       },
       "id": "available_metrics_code",
       "outputId": "a7f2c3f4-d1c8-40a5-d290-4884753370e0"
      },
      "execution_count": null,
      "outputs": [
       {
        "output_type": "stream",
        "name": "stdout",
        "text": [
         "Request URL: https://lcabench-v1-main-3f150df.d2.zuplo.dev/api/metrics/available\n",
         "Status Code: 200\n",
         "\n",
         "Available Metrics:\n",
         "{\n",
         "  \"metrics\": [\n",
         "    \"Carbon footprint\",\n",
         "    \"EF3.1 Score\",\n",
         "    \"Land Use\"\n",
         "  ]\n",
         "}\n"
        ]
       }
      ]
     },
     {
      "cell_type": "markdown",
      "source": [
       "## 4. Search for Metrics\n",
       "\n",
       "This is the core functionality. Let's search for LCA data for specific items.\n",
       "\n",
       "### 4.1 Basic Search (Item Name Only)\n",
       "\n",
       "Search for the default metric ('Carbon footprint') for 'steel'."
      ],
      "metadata": {
       "id": "search_markdown_basic"
      }
     },
     {
      "cell_type": "code",
      "source": [
       "# Define the search endpoint URL\n",
       "search_url = f\"{API_BASE_URL}/api/metrics/search\"\n",
       "\n",
       "# --- Parameters for the search ---\n",
       "search_params = {\n",
       "    \"item_name\": \"steel\" # The only required parameter\n",
       "    # Other parameters will use their defaults\n",
       "}\n",
       "\n",
       "try:\n",
       "    # Make the GET request with parameters\n",
       "    response = requests.get(search_url, headers=headers, params=search_params)\n",
       "\n",
       "    # Print request details and response\n",
       "    print(f\"Request URL: {response.url}\") # Shows the full URL with query parameters\n",
       "    print(f\"Status Code: {response.status_code}\")\n",
       "\n",
       "    print(\"\\nResponse Body:\")\n",
       "    try:\n",
       "        # Pretty print JSON response\n",
       "        print(json.dumps(response.json(), indent=2))\n",
       "    except json.JSONDecodeError:\n",
       "        # Print raw text if response is not JSON\n",
       "        print(response.text)\n",
       "\n",
       "except requests.exceptions.RequestException as e:\n",
       "    print(f\"An error occurred during the request: {e}\")"
      ],
      "metadata": {
       "colab": {
        "base_uri": "https://localhost:8080/"
       },
       "id": "search_code_basic",
       "outputId": "fd847c12-9660-4a21-f2f9-5e79d6446140"
      },
      "execution_count": null,
      "outputs": [
       {
        "output_type": "stream",
        "name": "stdout",
        "text": [
         "Request URL: https://lcabench-v1-main-3f150df.d2.zuplo.dev/api/metrics/search?item_name=steel\n",
         "Status Code: 200\n",
         "\n",
         "Response Body:\n",
         "{\n",
         "  \"matches\": [\n",
         "    {\n",
         "      \"rank\": 1,\n",
         "      \"matched_name\": \"Steel, low-alloyed, at plant\",\n",
         "      \"metric\": {\n",
         "        \"name\": \"Carbon footprint\",\n",
         "        \"value\": 1.34,\n",
         "        \"unit\": \"kg CO2 eq / kg\"\n",
         "      },\n",
         "      \"year\": 2023,\n",
         "      \"geography\": \"GLO\",\n",
         "      \"source\": \"ecoinvent v3.9.1\",\n",
         "      \"source_link\": \"https://ecoinvent.org/the-ecoinvent-database/\",\n",
         "      \"conversion_info\": \"Unit conversion not requested.\"\n",
         "    }\n",
         "  ],\n",
         "  \"explanation\": \"The best match is 'Steel, low-alloyed, at plant' as it represents a common form of steel without specific processing details, aligning well with the general query 'steel'. It provides the requested carbon footprint metric.\"\n",
         "}\n"
        ]
       }
      ]
     },
     {
      "cell_type": "markdown",
      "source": [
       "### 4.2 Advanced Search (Multiple Parameters)\n",
       "\n",
       "Let's try a more specific search:\n",
       "* Item: `cotton t-shirt`\n",
       "* Metric: `Land Use`\n",
       "* Geography: `FR` (France)\n",
       "* Number of Matches: `2`\n",
       "* Convert Unit: `g` (grams for the functional unit)"
      ],
      "metadata": {
       "id": "search_markdown_advanced"
      }
     },
     {
      "cell_type": "code",
      "source": [
       "# --- Parameters for the advanced search ---\n",
       "advanced_search_params = {\n",
       "    \"item_name\": \"cotton t-shirt\",\n",
       "    \"metric\": \"Land Use\",       # Specify the metric\n",
       "    \"geography\": \"FR\",          # Specify geography\n",
       "    \"num_matches\": 2,           # Request top 2 matches\n",
       "    \"unit\": \"g\"                 # Request conversion to grams\n",
       "}\n",
       "\n",
       "try:\n",
       "    # Make the GET request\n",
       "    response = requests.get(search_url, headers=headers, params=advanced_search_params)\n",
       "\n",
       "    # Print request details and response\n",
       "    print(f\"Request URL: {response.url}\")\n",
       "    print(f\"Status Code: {response.status_code}\")\n",
       "\n",
       "    print(\"\\nResponse Body:\")\n",
       "    try:\n",
       "        print(json.dumps(response.json(), indent=2))\n",
       "    except json.JSONDecodeError:\n",
       "        print(response.text)\n",
       "\n",
       "except requests.exceptions.RequestException as e:\n",
       "    print(f\"An error occurred during the request: {e}\")"
      ],
      "metadata": {
       "colab": {
        "base_uri": "https://localhost:8080/"
       },
       "id": "search_code_advanced",
       "outputId": "c5f7c4d7-e833-460b-d41b-c76b26b2256c"
      },
      "execution_count": null,
      "outputs": [
       {
        "output_type": "stream",
        "name": "stdout",
        "text": [
         "Request URL: https://lcabench-v1-main-3f150df.d2.zuplo.dev/api/metrics/search?item_name=cotton+t-shirt&metric=Land+Use&geography=FR&num_matches=2&unit=g\n",
         "Status Code: 200\n",
         "\n",
         "Response Body:\n",
         "{\n",
         "  \"matches\": [\n",
         "    {\n",
         "      \"rank\": 1,\n",
         "      \"matched_name\": \"Cotton T-shirt\",\n",
         "      \"metric\": {\n",
         "        \"name\": \"Land Use\",\n",
         "        \"value\": 0.0093,\n",
         "        \"unit\": \"m2a crop eq / g\"\n",
         "      },\n",
         "      \"year\": 2020,\n",
         "      \"geography\": \"FR\",\n",
         "      \"source\": \"Agribalyse v3.1\",\n",
         "      \"source_link\": \"https://agribalyse.ademe.fr/data\",\n",
         "      \"conversion_info\": \"Converted functional unit from kg to g (divide value by 1 000).\"\n",
         "    }\n",
         "  ],\n",
         "  \"explanation\": \"The best match is 'Cotton T-shirt' from Agribalyse v3.1 (2020, FR), which directly matches the query and provides the requested 'Land Use' metric. Only one match was found despite requesting two.\"\n",
         "}\n"
        ]
       }
      ]
     },
     {
      "cell_type": "markdown",
      "source": [
       "### 4.3 Handling 'No Match' Response\n",
       "\n",
       "Let's try searching for something unlikely to exist."
      ],
      "metadata": {
       "id": "search_markdown_no_match"
      }
     },
     {
      "cell_type": "code",
      "source": [
       "# --- Parameters for a likely non-matching search ---\n",
       "no_match_params = {\n",
       "    \"item_name\": \"unobtainium widget mk7\"\n",
       "}\n",
       "\n",
       "try:\n",
       "    # Make the GET request\n",
       "    response = requests.get(search_url, headers=headers, params=no_match_params)\n",
       "\n",
       "    # Print request details and response\n",
       "    print(f\"Request URL: {response.url}\")\n",
       "    print(f\"Status Code: {response.status_code}\")\n",
       "\n",
       "    print(\"\\nResponse Body:\")\n",
       "    try:\n",
       "        response_data = response.json()\n",
       "        print(json.dumps(response_data, indent=2))\n",
       "        # Check specifically for the 'no match' message structure\n",
       "        if response.status_code == 200 and \"message\" in response_data and \"matches\" not in response_data:\n",
       "             print(\"\\n---> This is the expected 'No Match Found' response.\")\n",
       "    except json.JSONDecodeError:\n",
       "        print(response.text)\n",
       "\n",
       "except requests.exceptions.RequestException as e:\n",
       "    print(f\"An error occurred during the request: {e}\")"
      ],
      "metadata": {
       "colab": {
        "base_uri": "https://localhost:8080/"
       },
       "id": "search_code_no_match",
       "outputId": "d7b51f65-2e5d-43e9-816c-5d721f14b69c"
      },
      "execution_count": null,
      "outputs": [
       {
        "output_type": "stream",
        "name": "stdout",
        "text": [
         "Request URL: https://lcabench-v1-main-3f150df.d2.zuplo.dev/api/metrics/search?item_name=unobtainium+widget+mk7\n",
         "Status Code: 200\n",
         "\n",
         "Response Body:\n",
         "{\n",
         "  \"message\": \"No good match was found, retry with a different item name\"\n",
         "}\n",
         "\n",
         "---> This is the expected 'No Match Found' response.\n"
        ]
       }
      ]
     },
     {
      "cell_type": "markdown",
      "source": [
       "### 4.4 Handling Errors (Example: Missing Required Parameter)\n",
       "\n",
       "The API should return an error if required parameters like `item_name` are missing. Zuplo (the API Gateway) typically handles this validation and returns a 400 Bad Request."
      ],
      "metadata": {
       "id": "search_markdown_error"
      }
     },
     {
      "cell_type": "code",
      "source": [
       "# --- Parameters missing the required 'item_name' ---\n",
       "error_params = {\n",
       "    \"metric\": \"Carbon footprint\" # Missing item_name\n",
       "}\n",
       "\n",
       "try:\n",
       "    # Make the GET request\n",
       "    response = requests.get(search_url, headers=headers, params=error_params)\n",
       "\n",
       "    # Print request details and response\n",
       "    print(f\"Request URL: {response.url}\")\n",
       "    print(f\"Status Code: {response.status_code}\") # Expecting 400 or 422\n",
       "\n",
       "    print(\"\\nResponse Body:\")\n",
       "    try:\n",
       "        print(json.dumps(response.json(), indent=2))\n",
       "    except json.JSONDecodeError:\n",
       "        print(response.text)\n",
       "\n",
       "except requests.exceptions.RequestException as e:\n",
       "    print(f\"An error occurred during the request: {e}\")"
      ],
      "metadata": {
       "colab": {
        "base_uri": "https://localhost:8080/"
       },
       "id": "search_code_error",
       "outputId": "f6720f0f-b548-4267-a268-02762d64d930"
      },
      "execution_count": null,
      "outputs": [
       {
        "output_type": "stream",
        "name": "stdout",
        "text": [
         "Request URL: https://lcabench-v1-main-3f150df.d2.zuplo.dev/api/metrics/search?metric=Carbon+footprint\n",
         "Status Code: 400\n",
         "\n",
         "Response Body:\n",
         "{\n",
         "  \"error\": {\n",
         "    \"message\": \"Invalid query parameters provided\",\n",
         "    \"details\": [\n",
         "      {\n",
         "        \"path\": [\n",
         "          \"item_name\"\n",
         "        ],\n",
         "        \"message\": \"Required\"\n",
         "      }\n",
         "    ]\n",
         "  }\n",
         "}\n"
        ]
       }
      ]
     },
     {
      "cell_type": "markdown",
      "source": [
       "## 5. Conclusion\n",
       "\n",
       "This notebook demonstrated the basic usage of the ScopeGreen API:\n",
       "* Setting up authentication.\n",
       "* Checking API health and available metrics.\n",
       "* Performing basic and advanced searches for LCA data.\n",
       "* Handling successful responses, 'no match' scenarios, and errors.\n",
       "\n",
       "Feel free to modify the code cells above to experiment with different parameters and items.\n",
       "\n",
       "**Further Resources:**\n",
       "* [ScopeGreen API Documentation](https://lcabench-v1-main-3f150df.d2.zuplo.dev/docs) (Your Dev Portal Link)\n",
       "* [Scope4 Website](https://scope4.dev)\n",
       "\n",
       "For questions or support, contact tom@scope4.dev."
      ],
      "metadata": {
       "id": "conclusion_markdown"
      }
     }
    ]
   }   